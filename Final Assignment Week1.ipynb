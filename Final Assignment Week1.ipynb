{
 "cells": [
  {
   "cell_type": "markdown",
   "metadata": {},
   "source": [
    "# Capstone Project - The Battle of Neighborhoods"
   ]
  },
  {
   "cell_type": "markdown",
   "metadata": {},
   "source": [
    "## Introduction/Business Problem\n",
    "### Many tourists over the globe have been affected by insecurity when visiting places on other cities, this due to the fact the tourist does not have information about the most common places where crimes are performed. According to this the tourism and the people affected annually loses a lot of many and time. \n",
    "### Infotou is a data application that deliveries the tourist all information regarding to venues and the security around them, this would help tourists to make good decisions and to have a better vacation around the global cities."
   ]
  },
  {
   "cell_type": "markdown",
   "metadata": {},
   "source": [
    "## Data\n",
    "### To perform Infotou the following data would be used:\n",
    "•\tFoursquare location data, in order to have all venues from the city of San Francisco  \n",
    "•\tData base of crimes in the city of San Francisco.\n",
    "### An example of this is that Infotou will obtain the most popular places in San Francisco and check the crimes around this specific venue, according to this Infotou will calculate the number of crimes around it and make a cluster for the venues (High Risk, medium risk & Low Risk).Infotou will be able to give the user a visualization by colors of the most risky venues."
   ]
  },
  {
   "cell_type": "code",
   "execution_count": null,
   "metadata": {},
   "outputs": [],
   "source": []
  }
 ],
 "metadata": {
  "kernelspec": {
   "display_name": "Python",
   "language": "python",
   "name": "conda-env-python-py"
  },
  "language_info": {
   "codemirror_mode": {
    "name": "ipython",
    "version": 3
   },
   "file_extension": ".py",
   "mimetype": "text/x-python",
   "name": "python",
   "nbconvert_exporter": "python",
   "pygments_lexer": "ipython3",
   "version": "3.6.10"
  }
 },
 "nbformat": 4,
 "nbformat_minor": 4
}
